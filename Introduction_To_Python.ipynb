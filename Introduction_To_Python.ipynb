{
  "nbformat": 4,
  "nbformat_minor": 0,
  "metadata": {
    "colab": {
      "provenance": [],
      "authorship_tag": "ABX9TyMlgeITiHDAdT9wTp8YjX2e",
      "include_colab_link": true
    },
    "kernelspec": {
      "name": "python3",
      "display_name": "Python 3"
    },
    "language_info": {
      "name": "python"
    }
  },
  "cells": [
    {
      "cell_type": "markdown",
      "metadata": {
        "id": "view-in-github",
        "colab_type": "text"
      },
      "source": [
        "<a href=\"https://colab.research.google.com/github/ranish234/INTRODUCTION-TO-PYTHON-/blob/main/Introduction_To_Python.ipynb\" target=\"_parent\"><img src=\"https://colab.research.google.com/assets/colab-badge.svg\" alt=\"Open In Colab\"/></a>"
      ]
    },
    {
      "cell_type": "markdown",
      "source": [
        "# INTRODUCTION TO PYTHON"
      ],
      "metadata": {
        "id": "VMNUn-1uJmLn"
      }
    },
    {
      "cell_type": "markdown",
      "source": [
        "\n",
        "*   PYTHON IS EASY TO LEARN.\n",
        "*   IT IS USED BY DATA SCIENTIST\n",
        "*   IT IS CASE SENSITIVE LANGUAGE\n",
        "\n"
      ],
      "metadata": {
        "id": "1NUkdJM5Jxvg"
      }
    },
    {
      "cell_type": "markdown",
      "source": [
        "# Variable :\n",
        "\n",
        "*   variable are like a containers , used to store the values\n",
        "\n",
        "\n",
        ""
      ],
      "metadata": {
        "id": "6Td2qY3YL4OK"
      }
    },
    {
      "cell_type": "code",
      "source": [
        "a = \"hi\"\n"
      ],
      "metadata": {
        "id": "Vl4GTLCnMSJr"
      },
      "execution_count": 1,
      "outputs": []
    },
    {
      "cell_type": "markdown",
      "source": [
        "# DATA TYPES\n",
        "\n",
        "\n",
        "*   basic types : integers , float , complex, bool , string\n",
        "*   complex types : list , tuple , set , dictinary\n",
        "\n"
      ],
      "metadata": {
        "id": "0inVWna7KUCv"
      }
    },
    {
      "cell_type": "markdown",
      "source": [
        "#  Some important built in fuctions :\n",
        "\n",
        "\n",
        "*   print()\n",
        "\n",
        "*   type()\n",
        "*   input()\n",
        "\n"
      ],
      "metadata": {
        "id": "T0Q50lD5LVdz"
      }
    },
    {
      "cell_type": "code",
      "source": [
        "print(\"Hello Python\")"
      ],
      "metadata": {
        "colab": {
          "base_uri": "https://localhost:8080/"
        },
        "id": "Zpq3nz4RLKXE",
        "outputId": "e30962a3-b2af-4db8-a6a8-bba158cd8e65"
      },
      "execution_count": 2,
      "outputs": [
        {
          "output_type": "stream",
          "name": "stdout",
          "text": [
            "Hello Python\n"
          ]
        }
      ]
    },
    {
      "cell_type": "code",
      "source": [
        "type(\"hi\")"
      ],
      "metadata": {
        "colab": {
          "base_uri": "https://localhost:8080/"
        },
        "id": "G3EGTyHoJxIU",
        "outputId": "9f0e779a-18d7-4add-a9ac-bfc69477f6bc"
      },
      "execution_count": 3,
      "outputs": [
        {
          "output_type": "execute_result",
          "data": {
            "text/plain": [
              "str"
            ]
          },
          "metadata": {},
          "execution_count": 3
        }
      ]
    },
    {
      "cell_type": "code",
      "source": [
        "a = int(input(\" enter your name : \"))"
      ],
      "metadata": {
        "id": "ME-W48l1Sjhi"
      },
      "execution_count": null,
      "outputs": []
    },
    {
      "cell_type": "markdown",
      "source": [
        "# Type Conversion"
      ],
      "metadata": {
        "id": "O63Pw2HkLwu4"
      }
    },
    {
      "cell_type": "code",
      "source": [
        "a = 34\n",
        "str(a)"
      ],
      "metadata": {
        "colab": {
          "base_uri": "https://localhost:8080/",
          "height": 35
        },
        "id": "1aXExJt-L2OG",
        "outputId": "cefe9a3d-8582-46c9-d39f-14a7e7a2a153"
      },
      "execution_count": 4,
      "outputs": [
        {
          "output_type": "execute_result",
          "data": {
            "text/plain": [
              "'34'"
            ],
            "application/vnd.google.colaboratory.intrinsic+json": {
              "type": "string"
            }
          },
          "metadata": {},
          "execution_count": 4
        }
      ]
    },
    {
      "cell_type": "markdown",
      "source": [
        "# Some important examples:\n",
        "\n"
      ],
      "metadata": {
        "id": "9X6hg-M6Lvr8"
      }
    },
    {
      "cell_type": "markdown",
      "source": [
        "# Comment :\n",
        "\n",
        "*   A piece of code that we do not want to exceute , but it povide a important information related to program.\n",
        "* It can multiple  or single line .\n",
        "it we writthen using \"#\" or \"\"\" \"\"\"\"\n",
        "\n"
      ],
      "metadata": {
        "id": "kgIBW9GcQ3an"
      }
    },
    {
      "cell_type": "code",
      "source": [
        "#  hi , this program of summation\n",
        "a = 3\n",
        "b = 4\n",
        "print(a+b)"
      ],
      "metadata": {
        "colab": {
          "base_uri": "https://localhost:8080/"
        },
        "id": "Ms1vDYhERUfh",
        "outputId": "321918db-8ddf-4e39-978e-690e63fa7707"
      },
      "execution_count": 5,
      "outputs": [
        {
          "output_type": "stream",
          "name": "stdout",
          "text": [
            "7\n"
          ]
        }
      ]
    },
    {
      "cell_type": "code",
      "source": [
        "a = b = c = d = e = 56 - 5\n",
        "print(a+b+c+d+e)"
      ],
      "metadata": {
        "colab": {
          "base_uri": "https://localhost:8080/"
        },
        "id": "XzpGSc4ySILz",
        "outputId": "aa5ce3c1-9c6d-41b7-c37e-38e01d4b118c"
      },
      "execution_count": 6,
      "outputs": [
        {
          "output_type": "stream",
          "name": "stdout",
          "text": [
            "255\n"
          ]
        }
      ]
    },
    {
      "cell_type": "code",
      "source": [
        "_ = \"hello\"\n",
        "print(_)"
      ],
      "metadata": {
        "colab": {
          "base_uri": "https://localhost:8080/"
        },
        "id": "kBEoyDClSVhB",
        "outputId": "8d4c9d47-d94a-45ef-cc72-907727360414"
      },
      "execution_count": 7,
      "outputs": [
        {
          "output_type": "stream",
          "name": "stdout",
          "text": [
            "hello\n"
          ]
        }
      ]
    },
    {
      "cell_type": "code",
      "source": [],
      "metadata": {
        "id": "W4sJk54oSwTf"
      },
      "execution_count": null,
      "outputs": []
    }
  ]
}